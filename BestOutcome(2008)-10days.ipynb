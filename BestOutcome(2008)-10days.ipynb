{
 "cells": [
  {
   "cell_type": "code",
   "execution_count": 1,
   "metadata": {},
   "outputs": [],
   "source": [
    "# !pip install tensorflow\n",
    "# !pip install sklearn"
   ]
  },
  {
   "cell_type": "code",
   "execution_count": 2,
   "metadata": {},
   "outputs": [],
   "source": [
    "import numpy as np\n",
    "import matplotlib.pyplot as plt\n",
    "import pandas as pd\n",
    "from sklearn.preprocessing import StandardScaler, MinMaxScaler"
   ]
  },
  {
   "cell_type": "code",
   "execution_count": 3,
   "metadata": {},
   "outputs": [
    {
     "data": {
      "text/html": [
       "<div>\n",
       "<style scoped>\n",
       "    .dataframe tbody tr th:only-of-type {\n",
       "        vertical-align: middle;\n",
       "    }\n",
       "\n",
       "    .dataframe tbody tr th {\n",
       "        vertical-align: top;\n",
       "    }\n",
       "\n",
       "    .dataframe thead th {\n",
       "        text-align: right;\n",
       "    }\n",
       "</style>\n",
       "<table border=\"1\" class=\"dataframe\">\n",
       "  <thead>\n",
       "    <tr style=\"text-align: right;\">\n",
       "      <th></th>\n",
       "      <th>Date</th>\n",
       "      <th>Open</th>\n",
       "      <th>High</th>\n",
       "      <th>Low</th>\n",
       "      <th>Close</th>\n",
       "      <th>Volume</th>\n",
       "    </tr>\n",
       "  </thead>\n",
       "  <tbody>\n",
       "    <tr>\n",
       "      <th>8359</th>\n",
       "      <td>2017-11-06</td>\n",
       "      <td>171.75</td>\n",
       "      <td>174.36</td>\n",
       "      <td>171.10</td>\n",
       "      <td>173.63</td>\n",
       "      <td>34901241</td>\n",
       "    </tr>\n",
       "    <tr>\n",
       "      <th>8360</th>\n",
       "      <td>2017-11-07</td>\n",
       "      <td>173.29</td>\n",
       "      <td>174.51</td>\n",
       "      <td>173.29</td>\n",
       "      <td>174.18</td>\n",
       "      <td>24424877</td>\n",
       "    </tr>\n",
       "    <tr>\n",
       "      <th>8361</th>\n",
       "      <td>2017-11-08</td>\n",
       "      <td>174.03</td>\n",
       "      <td>175.61</td>\n",
       "      <td>173.71</td>\n",
       "      <td>175.61</td>\n",
       "      <td>24451166</td>\n",
       "    </tr>\n",
       "    <tr>\n",
       "      <th>8362</th>\n",
       "      <td>2017-11-09</td>\n",
       "      <td>174.48</td>\n",
       "      <td>175.46</td>\n",
       "      <td>172.52</td>\n",
       "      <td>175.25</td>\n",
       "      <td>29533086</td>\n",
       "    </tr>\n",
       "    <tr>\n",
       "      <th>8363</th>\n",
       "      <td>2017-11-10</td>\n",
       "      <td>175.11</td>\n",
       "      <td>175.38</td>\n",
       "      <td>174.27</td>\n",
       "      <td>174.67</td>\n",
       "      <td>25130494</td>\n",
       "    </tr>\n",
       "  </tbody>\n",
       "</table>\n",
       "</div>"
      ],
      "text/plain": [
       "            Date    Open    High     Low   Close    Volume\n",
       "8359  2017-11-06  171.75  174.36  171.10  173.63  34901241\n",
       "8360  2017-11-07  173.29  174.51  173.29  174.18  24424877\n",
       "8361  2017-11-08  174.03  175.61  173.71  175.61  24451166\n",
       "8362  2017-11-09  174.48  175.46  172.52  175.25  29533086\n",
       "8363  2017-11-10  175.11  175.38  174.27  174.67  25130494"
      ]
     },
     "execution_count": 3,
     "metadata": {},
     "output_type": "execute_result"
    }
   ],
   "source": [
    "data = pd.read_csv('aapl.us.txt', date_parser=True)\n",
    "data = data.drop(['OpenInt'], axis=1)\n",
    "data = data[data['Date']>'2008-01-01'].copy()\n",
    "data.tail()"
   ]
  },
  {
   "cell_type": "code",
   "execution_count": 4,
   "metadata": {},
   "outputs": [],
   "source": [
    "trainingData = data[data['Date']<'2015-01-01'].copy()\n",
    "testingData = data[data['Date']>='2015-01-01'].copy()"
   ]
  },
  {
   "cell_type": "code",
   "execution_count": 5,
   "metadata": {},
   "outputs": [],
   "source": [
    "trainingData = trainingData.drop(['Date'], axis=1)\n",
    "testingData = testingData.drop(['Date'], axis=1)"
   ]
  },
  {
   "cell_type": "code",
   "execution_count": 6,
   "metadata": {},
   "outputs": [
    {
     "data": {
      "text/html": [
       "<div>\n",
       "<style scoped>\n",
       "    .dataframe tbody tr th:only-of-type {\n",
       "        vertical-align: middle;\n",
       "    }\n",
       "\n",
       "    .dataframe tbody tr th {\n",
       "        vertical-align: top;\n",
       "    }\n",
       "\n",
       "    .dataframe thead th {\n",
       "        text-align: right;\n",
       "    }\n",
       "</style>\n",
       "<table border=\"1\" class=\"dataframe\">\n",
       "  <thead>\n",
       "    <tr style=\"text-align: right;\">\n",
       "      <th></th>\n",
       "      <th>Open</th>\n",
       "      <th>High</th>\n",
       "      <th>Low</th>\n",
       "      <th>Close</th>\n",
       "      <th>Volume</th>\n",
       "    </tr>\n",
       "  </thead>\n",
       "  <tbody>\n",
       "    <tr>\n",
       "      <th>7642</th>\n",
       "      <td>105.44</td>\n",
       "      <td>105.49</td>\n",
       "      <td>101.620</td>\n",
       "      <td>103.50</td>\n",
       "      <td>56196458</td>\n",
       "    </tr>\n",
       "    <tr>\n",
       "      <th>7643</th>\n",
       "      <td>102.51</td>\n",
       "      <td>102.83</td>\n",
       "      <td>99.790</td>\n",
       "      <td>100.58</td>\n",
       "      <td>67880159</td>\n",
       "    </tr>\n",
       "    <tr>\n",
       "      <th>7644</th>\n",
       "      <td>100.97</td>\n",
       "      <td>101.69</td>\n",
       "      <td>99.044</td>\n",
       "      <td>100.59</td>\n",
       "      <td>69460979</td>\n",
       "    </tr>\n",
       "    <tr>\n",
       "      <th>7645</th>\n",
       "      <td>101.49</td>\n",
       "      <td>102.42</td>\n",
       "      <td>100.990</td>\n",
       "      <td>102.01</td>\n",
       "      <td>42324520</td>\n",
       "    </tr>\n",
       "    <tr>\n",
       "      <th>7646</th>\n",
       "      <td>103.40</td>\n",
       "      <td>106.17</td>\n",
       "      <td>102.880</td>\n",
       "      <td>105.93</td>\n",
       "      <td>62679241</td>\n",
       "    </tr>\n",
       "    <tr>\n",
       "      <th>...</th>\n",
       "      <td>...</td>\n",
       "      <td>...</td>\n",
       "      <td>...</td>\n",
       "      <td>...</td>\n",
       "      <td>...</td>\n",
       "    </tr>\n",
       "    <tr>\n",
       "      <th>8359</th>\n",
       "      <td>171.75</td>\n",
       "      <td>174.36</td>\n",
       "      <td>171.100</td>\n",
       "      <td>173.63</td>\n",
       "      <td>34901241</td>\n",
       "    </tr>\n",
       "    <tr>\n",
       "      <th>8360</th>\n",
       "      <td>173.29</td>\n",
       "      <td>174.51</td>\n",
       "      <td>173.290</td>\n",
       "      <td>174.18</td>\n",
       "      <td>24424877</td>\n",
       "    </tr>\n",
       "    <tr>\n",
       "      <th>8361</th>\n",
       "      <td>174.03</td>\n",
       "      <td>175.61</td>\n",
       "      <td>173.710</td>\n",
       "      <td>175.61</td>\n",
       "      <td>24451166</td>\n",
       "    </tr>\n",
       "    <tr>\n",
       "      <th>8362</th>\n",
       "      <td>174.48</td>\n",
       "      <td>175.46</td>\n",
       "      <td>172.520</td>\n",
       "      <td>175.25</td>\n",
       "      <td>29533086</td>\n",
       "    </tr>\n",
       "    <tr>\n",
       "      <th>8363</th>\n",
       "      <td>175.11</td>\n",
       "      <td>175.38</td>\n",
       "      <td>174.270</td>\n",
       "      <td>174.67</td>\n",
       "      <td>25130494</td>\n",
       "    </tr>\n",
       "  </tbody>\n",
       "</table>\n",
       "<p>722 rows × 5 columns</p>\n",
       "</div>"
      ],
      "text/plain": [
       "        Open    High      Low   Close    Volume\n",
       "7642  105.44  105.49  101.620  103.50  56196458\n",
       "7643  102.51  102.83   99.790  100.58  67880159\n",
       "7644  100.97  101.69   99.044  100.59  69460979\n",
       "7645  101.49  102.42  100.990  102.01  42324520\n",
       "7646  103.40  106.17  102.880  105.93  62679241\n",
       "...      ...     ...      ...     ...       ...\n",
       "8359  171.75  174.36  171.100  173.63  34901241\n",
       "8360  173.29  174.51  173.290  174.18  24424877\n",
       "8361  174.03  175.61  173.710  175.61  24451166\n",
       "8362  174.48  175.46  172.520  175.25  29533086\n",
       "8363  175.11  175.38  174.270  174.67  25130494\n",
       "\n",
       "[722 rows x 5 columns]"
      ]
     },
     "execution_count": 6,
     "metadata": {},
     "output_type": "execute_result"
    }
   ],
   "source": [
    "testingData"
   ]
  },
  {
   "cell_type": "code",
   "execution_count": 7,
   "metadata": {},
   "outputs": [
    {
     "data": {
      "text/plain": [
       "array([[0.14958629, 0.14727732, 0.14394118, 0.14551955, 0.32008318],\n",
       "       [0.14459262, 0.14369895, 0.14410828, 0.1456462 , 0.24971081],\n",
       "       [0.13965735, 0.13822443, 0.12675946, 0.12706779, 0.43166317],\n",
       "       ...,\n",
       "       [0.94947922, 0.95429794, 0.95950303, 0.9530425 , 0.03100278],\n",
       "       [0.94801908, 0.94651886, 0.94485728, 0.94008534, 0.03358066],\n",
       "       [0.94062105, 0.93922598, 0.92716443, 0.92040606, 0.0465214 ]])"
      ]
     },
     "execution_count": 7,
     "metadata": {},
     "output_type": "execute_result"
    }
   ],
   "source": [
    "scaler = MinMaxScaler()\n",
    "trainingData = scaler.fit_transform(trainingData)\n",
    "trainingData"
   ]
  },
  {
   "cell_type": "code",
   "execution_count": 8,
   "metadata": {},
   "outputs": [],
   "source": [
    "Xtrain = []\n",
    "Ytrain = []"
   ]
  },
  {
   "cell_type": "code",
   "execution_count": 9,
   "metadata": {},
   "outputs": [
    {
     "data": {
      "text/plain": [
       "1763"
      ]
     },
     "execution_count": 9,
     "metadata": {},
     "output_type": "execute_result"
    }
   ],
   "source": [
    "trainingData.shape[0]"
   ]
  },
  {
   "cell_type": "code",
   "execution_count": 10,
   "metadata": {},
   "outputs": [],
   "source": [
    "for i in range(10, trainingData.shape[0]):\n",
    "    Xtrain.append(trainingData[i-10:i])\n",
    "    Ytrain.append(trainingData[i, 0])"
   ]
  },
  {
   "cell_type": "code",
   "execution_count": 11,
   "metadata": {},
   "outputs": [],
   "source": [
    "Xtrain, Ytrain = np.array(Xtrain), np.array(Ytrain)"
   ]
  },
  {
   "cell_type": "code",
   "execution_count": 12,
   "metadata": {},
   "outputs": [
    {
     "data": {
      "text/plain": [
       "((1753, 10, 5), (1753,))"
      ]
     },
     "execution_count": 12,
     "metadata": {},
     "output_type": "execute_result"
    }
   ],
   "source": [
    "Xtrain.shape, Ytrain.shape"
   ]
  },
  {
   "cell_type": "code",
   "execution_count": 13,
   "metadata": {},
   "outputs": [],
   "source": [
    "### Building LSTM"
   ]
  },
  {
   "cell_type": "code",
   "execution_count": 14,
   "metadata": {},
   "outputs": [],
   "source": [
    "from tensorflow.keras import Sequential\n",
    "from tensorflow.keras.layers import Dense, LSTM, Dropout\n",
    "import tensorflow as tf"
   ]
  },
  {
   "cell_type": "code",
   "execution_count": 15,
   "metadata": {},
   "outputs": [],
   "source": [
    "regressor = Sequential()\n",
    "\n",
    "regressor.add(LSTM(units=60, activation='tanh', use_bias=True, return_sequences=True, input_shape=(Xtrain.shape[1], 5)))\n",
    "regressor.add(Dropout(0.2))\n",
    "\n",
    "regressor.add(LSTM(units=80, activation='tanh', use_bias=True, return_sequences=True))\n",
    "regressor.add(Dropout(0.2))\n",
    "\n",
    "regressor.add(LSTM(units=100, activation='tanh', use_bias=True, return_sequences=True))\n",
    "regressor.add(Dropout(0.2))\n",
    "\n",
    "regressor.add(LSTM(units=120, activation='tanh'))\n",
    "regressor.add(Dropout(0.2))\n",
    "\n",
    "regressor.add(Dense(units = 1))\n"
   ]
  },
  {
   "cell_type": "code",
   "execution_count": 16,
   "metadata": {},
   "outputs": [
    {
     "name": "stdout",
     "output_type": "stream",
     "text": [
      "Model: \"sequential\"\n",
      "_________________________________________________________________\n",
      "Layer (type)                 Output Shape              Param #   \n",
      "=================================================================\n",
      "lstm (LSTM)                  (None, 10, 60)            15840     \n",
      "_________________________________________________________________\n",
      "dropout (Dropout)            (None, 10, 60)            0         \n",
      "_________________________________________________________________\n",
      "lstm_1 (LSTM)                (None, 10, 80)            45120     \n",
      "_________________________________________________________________\n",
      "dropout_1 (Dropout)          (None, 10, 80)            0         \n",
      "_________________________________________________________________\n",
      "lstm_2 (LSTM)                (None, 10, 100)           72400     \n",
      "_________________________________________________________________\n",
      "dropout_2 (Dropout)          (None, 10, 100)           0         \n",
      "_________________________________________________________________\n",
      "lstm_3 (LSTM)                (None, 120)               106080    \n",
      "_________________________________________________________________\n",
      "dropout_3 (Dropout)          (None, 120)               0         \n",
      "_________________________________________________________________\n",
      "dense (Dense)                (None, 1)                 121       \n",
      "=================================================================\n",
      "Total params: 239,561\n",
      "Trainable params: 239,561\n",
      "Non-trainable params: 0\n",
      "_________________________________________________________________\n"
     ]
    }
   ],
   "source": [
    "regressor.summary()"
   ]
  },
  {
   "cell_type": "code",
   "execution_count": 17,
   "metadata": {},
   "outputs": [],
   "source": [
    "regressor.compile(optimizer='adam', loss='mean_squared_error')"
   ]
  },
  {
   "cell_type": "code",
   "execution_count": 18,
   "metadata": {
    "scrolled": false
   },
   "outputs": [
    {
     "name": "stdout",
     "output_type": "stream",
     "text": [
      "Epoch 1/50\n",
      "55/55 [==============================] - 28s 9ms/step - loss: 0.0203\n",
      "Epoch 2/50\n",
      "55/55 [==============================] - 1s 9ms/step - loss: 0.0020\n",
      "Epoch 3/50\n",
      "55/55 [==============================] - 1s 9ms/step - loss: 0.0018\n",
      "Epoch 4/50\n",
      "55/55 [==============================] - 1s 9ms/step - loss: 0.0016\n",
      "Epoch 5/50\n",
      "55/55 [==============================] - 0s 9ms/step - loss: 0.0018\n",
      "Epoch 6/50\n",
      "55/55 [==============================] - 1s 9ms/step - loss: 0.0015\n",
      "Epoch 7/50\n",
      "55/55 [==============================] - 1s 9ms/step - loss: 0.0015\n",
      "Epoch 8/50\n",
      "55/55 [==============================] - 1s 9ms/step - loss: 0.0016\n",
      "Epoch 9/50\n",
      "55/55 [==============================] - 1s 9ms/step - loss: 0.0012\n",
      "Epoch 10/50\n",
      "55/55 [==============================] - 1s 9ms/step - loss: 0.0013\n",
      "Epoch 11/50\n",
      "55/55 [==============================] - 1s 9ms/step - loss: 0.0015\n",
      "Epoch 12/50\n",
      "55/55 [==============================] - 0s 9ms/step - loss: 0.0013\n",
      "Epoch 13/50\n",
      "55/55 [==============================] - 1s 9ms/step - loss: 0.0013\n",
      "Epoch 14/50\n",
      "55/55 [==============================] - 1s 9ms/step - loss: 0.0012\n",
      "Epoch 15/50\n",
      "55/55 [==============================] - 1s 9ms/step - loss: 0.0012\n",
      "Epoch 16/50\n",
      "55/55 [==============================] - 1s 9ms/step - loss: 0.0011\n",
      "Epoch 17/50\n",
      "55/55 [==============================] - 1s 9ms/step - loss: 0.0012\n",
      "Epoch 18/50\n",
      "55/55 [==============================] - 1s 9ms/step - loss: 0.0010\n",
      "Epoch 19/50\n",
      "55/55 [==============================] - 1s 9ms/step - loss: 0.0011\n",
      "Epoch 20/50\n",
      "55/55 [==============================] - 1s 9ms/step - loss: 0.0014\n",
      "Epoch 21/50\n",
      "55/55 [==============================] - 1s 10ms/step - loss: 0.0013\n",
      "Epoch 22/50\n",
      "55/55 [==============================] - 1s 10ms/step - loss: 0.0011\n",
      "Epoch 23/50\n",
      "55/55 [==============================] - 1s 9ms/step - loss: 9.6871e-04\n",
      "Epoch 24/50\n",
      "55/55 [==============================] - 1s 9ms/step - loss: 0.0012\n",
      "Epoch 25/50\n",
      "55/55 [==============================] - 1s 10ms/step - loss: 0.0011\n",
      "Epoch 26/50\n",
      "55/55 [==============================] - 1s 9ms/step - loss: 9.6968e-04\n",
      "Epoch 27/50\n",
      "55/55 [==============================] - 1s 10ms/step - loss: 0.0012\n",
      "Epoch 28/50\n",
      "55/55 [==============================] - 1s 9ms/step - loss: 0.0010\n",
      "Epoch 29/50\n",
      "55/55 [==============================] - 1s 10ms/step - loss: 0.0010\n",
      "Epoch 30/50\n",
      "55/55 [==============================] - 1s 9ms/step - loss: 9.3575e-04\n",
      "Epoch 31/50\n",
      "55/55 [==============================] - 1s 9ms/step - loss: 9.8714e-04\n",
      "Epoch 32/50\n",
      "55/55 [==============================] - 1s 9ms/step - loss: 0.0011\n",
      "Epoch 33/50\n",
      "55/55 [==============================] - 1s 9ms/step - loss: 9.2519e-04\n",
      "Epoch 34/50\n",
      "55/55 [==============================] - 1s 9ms/step - loss: 8.9167e-04\n",
      "Epoch 35/50\n",
      "55/55 [==============================] - 1s 9ms/step - loss: 0.0011\n",
      "Epoch 36/50\n",
      "55/55 [==============================] - 1s 9ms/step - loss: 9.4888e-04\n",
      "Epoch 37/50\n",
      "55/55 [==============================] - 1s 9ms/step - loss: 8.6479e-04\n",
      "Epoch 38/50\n",
      "55/55 [==============================] - 1s 10ms/step - loss: 8.6938e-04\n",
      "Epoch 39/50\n",
      "55/55 [==============================] - 1s 9ms/step - loss: 8.5803e-04\n",
      "Epoch 40/50\n",
      "55/55 [==============================] - 1s 10ms/step - loss: 9.8712e-04\n",
      "Epoch 41/50\n",
      "55/55 [==============================] - 1s 9ms/step - loss: 9.2063e-04\n",
      "Epoch 42/50\n",
      "55/55 [==============================] - 1s 10ms/step - loss: 0.0012\n",
      "Epoch 43/50\n",
      "55/55 [==============================] - 1s 9ms/step - loss: 0.0011\n",
      "Epoch 44/50\n",
      "55/55 [==============================] - 1s 9ms/step - loss: 8.3480e-04\n",
      "Epoch 45/50\n",
      "55/55 [==============================] - 1s 9ms/step - loss: 7.6287e-04\n",
      "Epoch 46/50\n",
      "55/55 [==============================] - 1s 10ms/step - loss: 7.2470e-04\n",
      "Epoch 47/50\n",
      "55/55 [==============================] - 1s 10ms/step - loss: 7.4780e-04\n",
      "Epoch 48/50\n",
      "55/55 [==============================] - 1s 10ms/step - loss: 9.0232e-04\n",
      "Epoch 49/50\n",
      "55/55 [==============================] - 1s 9ms/step - loss: 7.8990e-04\n",
      "Epoch 50/50\n",
      "55/55 [==============================] - 0s 9ms/step - loss: 7.9308e-04\n"
     ]
    },
    {
     "data": {
      "text/plain": [
       "<tensorflow.python.keras.callbacks.History at 0x1d55f37f9d0>"
      ]
     },
     "execution_count": 18,
     "metadata": {},
     "output_type": "execute_result"
    }
   ],
   "source": [
    "regressor.fit(Xtrain, Ytrain, epochs=50, batch_size=32)"
   ]
  },
  {
   "cell_type": "code",
   "execution_count": 19,
   "metadata": {},
   "outputs": [],
   "source": [
    "### Prepare Test Dataset"
   ]
  },
  {
   "cell_type": "code",
   "execution_count": 20,
   "metadata": {},
   "outputs": [],
   "source": [
    "dataTrain = data[data['Date']<'2015-01-01'].copy()\n",
    "dataTest = data[data['Date']>='2015-01-01'].copy()"
   ]
  },
  {
   "cell_type": "code",
   "execution_count": 21,
   "metadata": {
    "scrolled": true
   },
   "outputs": [],
   "source": [
    "past60Days = dataTrain.tail(10)"
   ]
  },
  {
   "cell_type": "code",
   "execution_count": 22,
   "metadata": {},
   "outputs": [
    {
     "data": {
      "text/html": [
       "<div>\n",
       "<style scoped>\n",
       "    .dataframe tbody tr th:only-of-type {\n",
       "        vertical-align: middle;\n",
       "    }\n",
       "\n",
       "    .dataframe tbody tr th {\n",
       "        vertical-align: top;\n",
       "    }\n",
       "\n",
       "    .dataframe thead th {\n",
       "        text-align: right;\n",
       "    }\n",
       "</style>\n",
       "<table border=\"1\" class=\"dataframe\">\n",
       "  <thead>\n",
       "    <tr style=\"text-align: right;\">\n",
       "      <th></th>\n",
       "      <th>Open</th>\n",
       "      <th>High</th>\n",
       "      <th>Low</th>\n",
       "      <th>Close</th>\n",
       "      <th>Volume</th>\n",
       "    </tr>\n",
       "  </thead>\n",
       "  <tbody>\n",
       "    <tr>\n",
       "      <th>0</th>\n",
       "      <td>101.42</td>\n",
       "      <td>103.98</td>\n",
       "      <td>101.12</td>\n",
       "      <td>103.58</td>\n",
       "      <td>56384329</td>\n",
       "    </tr>\n",
       "    <tr>\n",
       "      <th>1</th>\n",
       "      <td>105.91</td>\n",
       "      <td>106.64</td>\n",
       "      <td>104.74</td>\n",
       "      <td>106.64</td>\n",
       "      <td>62279357</td>\n",
       "    </tr>\n",
       "    <tr>\n",
       "      <th>2</th>\n",
       "      <td>106.27</td>\n",
       "      <td>107.18</td>\n",
       "      <td>105.71</td>\n",
       "      <td>105.82</td>\n",
       "      <td>93393464</td>\n",
       "    </tr>\n",
       "    <tr>\n",
       "      <th>3</th>\n",
       "      <td>106.18</td>\n",
       "      <td>107.43</td>\n",
       "      <td>106.01</td>\n",
       "      <td>106.92</td>\n",
       "      <td>47699142</td>\n",
       "    </tr>\n",
       "    <tr>\n",
       "      <th>4</th>\n",
       "      <td>107.17</td>\n",
       "      <td>107.27</td>\n",
       "      <td>106.45</td>\n",
       "      <td>106.53</td>\n",
       "      <td>27476050</td>\n",
       "    </tr>\n",
       "    <tr>\n",
       "      <th>...</th>\n",
       "      <td>...</td>\n",
       "      <td>...</td>\n",
       "      <td>...</td>\n",
       "      <td>...</td>\n",
       "      <td>...</td>\n",
       "    </tr>\n",
       "    <tr>\n",
       "      <th>727</th>\n",
       "      <td>171.75</td>\n",
       "      <td>174.36</td>\n",
       "      <td>171.10</td>\n",
       "      <td>173.63</td>\n",
       "      <td>34901241</td>\n",
       "    </tr>\n",
       "    <tr>\n",
       "      <th>728</th>\n",
       "      <td>173.29</td>\n",
       "      <td>174.51</td>\n",
       "      <td>173.29</td>\n",
       "      <td>174.18</td>\n",
       "      <td>24424877</td>\n",
       "    </tr>\n",
       "    <tr>\n",
       "      <th>729</th>\n",
       "      <td>174.03</td>\n",
       "      <td>175.61</td>\n",
       "      <td>173.71</td>\n",
       "      <td>175.61</td>\n",
       "      <td>24451166</td>\n",
       "    </tr>\n",
       "    <tr>\n",
       "      <th>730</th>\n",
       "      <td>174.48</td>\n",
       "      <td>175.46</td>\n",
       "      <td>172.52</td>\n",
       "      <td>175.25</td>\n",
       "      <td>29533086</td>\n",
       "    </tr>\n",
       "    <tr>\n",
       "      <th>731</th>\n",
       "      <td>175.11</td>\n",
       "      <td>175.38</td>\n",
       "      <td>174.27</td>\n",
       "      <td>174.67</td>\n",
       "      <td>25130494</td>\n",
       "    </tr>\n",
       "  </tbody>\n",
       "</table>\n",
       "<p>732 rows × 5 columns</p>\n",
       "</div>"
      ],
      "text/plain": [
       "       Open    High     Low   Close    Volume\n",
       "0    101.42  103.98  101.12  103.58  56384329\n",
       "1    105.91  106.64  104.74  106.64  62279357\n",
       "2    106.27  107.18  105.71  105.82  93393464\n",
       "3    106.18  107.43  106.01  106.92  47699142\n",
       "4    107.17  107.27  106.45  106.53  27476050\n",
       "..      ...     ...     ...     ...       ...\n",
       "727  171.75  174.36  171.10  173.63  34901241\n",
       "728  173.29  174.51  173.29  174.18  24424877\n",
       "729  174.03  175.61  173.71  175.61  24451166\n",
       "730  174.48  175.46  172.52  175.25  29533086\n",
       "731  175.11  175.38  174.27  174.67  25130494\n",
       "\n",
       "[732 rows x 5 columns]"
      ]
     },
     "execution_count": 22,
     "metadata": {},
     "output_type": "execute_result"
    }
   ],
   "source": [
    "df = past60Days.append(dataTest, ignore_index=True)\n",
    "df = df.drop(['Date'], axis=1)\n",
    "df"
   ]
  },
  {
   "cell_type": "code",
   "execution_count": 23,
   "metadata": {},
   "outputs": [
    {
     "data": {
      "text/plain": [
       "array([[0.88815341, 0.90898483, 0.89551388, 0.91154063, 0.06000278],\n",
       "       [0.93186022, 0.93485025, 0.93109617, 0.94135183, 0.06627612],\n",
       "       [0.93536455, 0.94010113, 0.94063065, 0.93336321, 0.09938697],\n",
       "       ...,\n",
       "       [1.59495766, 1.6055037 , 1.60902729, 1.6132728 , 0.02602031],\n",
       "       [1.59933807, 1.60404512, 1.59733035, 1.6097656 , 0.03142836],\n",
       "       [1.60547065, 1.60326721, 1.61453173, 1.60411511, 0.02674324]])"
      ]
     },
     "execution_count": 23,
     "metadata": {},
     "output_type": "execute_result"
    }
   ],
   "source": [
    "inputs = scaler.transform(df)\n",
    "inputs"
   ]
  },
  {
   "cell_type": "code",
   "execution_count": 24,
   "metadata": {},
   "outputs": [],
   "source": [
    "Xtest = []\n",
    "Ytest = []\n",
    "\n",
    "for i in range(10, inputs.shape[0]):\n",
    "    Xtest.append(inputs[i-10:i])\n",
    "    Ytest.append(inputs[i, 0])"
   ]
  },
  {
   "cell_type": "code",
   "execution_count": 25,
   "metadata": {},
   "outputs": [
    {
     "data": {
      "text/plain": [
       "((722, 10, 5), (722,))"
      ]
     },
     "execution_count": 25,
     "metadata": {},
     "output_type": "execute_result"
    }
   ],
   "source": [
    "Xtest, Ytest = np.array(Xtest), np.array(Ytest)\n",
    "Xtest.shape, Ytest.shape "
   ]
  },
  {
   "cell_type": "code",
   "execution_count": 26,
   "metadata": {},
   "outputs": [],
   "source": [
    "Ypred = regressor.predict(Xtest)"
   ]
  },
  {
   "cell_type": "code",
   "execution_count": 27,
   "metadata": {},
   "outputs": [],
   "source": [
    "s = scaler.scale_\n",
    "scale = 1 / s[0]"
   ]
  },
  {
   "cell_type": "code",
   "execution_count": 28,
   "metadata": {},
   "outputs": [
    {
     "data": {
      "text/plain": [
       "102.72999999999999"
      ]
     },
     "execution_count": 28,
     "metadata": {},
     "output_type": "execute_result"
    }
   ],
   "source": [
    "scale"
   ]
  },
  {
   "cell_type": "code",
   "execution_count": 29,
   "metadata": {},
   "outputs": [
    {
     "data": {
      "text/plain": [
       "(722, 1)"
      ]
     },
     "execution_count": 29,
     "metadata": {},
     "output_type": "execute_result"
    }
   ],
   "source": [
    "Ypred = Ypred*scale\n",
    "Ytest = Ytest*scale\n",
    "Ypred.shape"
   ]
  },
  {
   "cell_type": "code",
   "execution_count": 30,
   "metadata": {},
   "outputs": [],
   "source": [
    "### Visualization"
   ]
  },
  {
   "cell_type": "code",
   "execution_count": 31,
   "metadata": {},
   "outputs": [
    {
     "data": {
      "image/png": "[encoded data removed]",
      "text/plain": [
       "<Figure size 1008x360 with 1 Axes>"
      ]
     },
     "metadata": {
      "needs_background": "light"
     },
     "output_type": "display_data"
    }
   ],
   "source": [
    "plt.figure(figsize=(14,5))\n",
    "plt.plot(Ytest, color='red', label='Real Apple Stock Price')\n",
    "plt.plot(Ypred, color='green', label='Predict Apple Stock Price')\n",
    "plt.title('Apple Stock Price Prediction through NN')\n",
    "plt.xlabel('Time')\n",
    "plt.ylabel('Apple Stock Price')\n",
    "plt.legend()\n",
    "plt.show()"
   ]
  },
  {
   "cell_type": "code",
   "execution_count": null,
   "metadata": {},
   "outputs": [],
   "source": []
  },
  {
   "cell_type": "code",
   "execution_count": null,
   "metadata": {},
   "outputs": [],
   "source": []
  },
  {
   "cell_type": "code",
   "execution_count": null,
   "metadata": {},
   "outputs": [],
   "source": []
  }
 ],
 "metadata": {
  "kernelspec": {
   "display_name": "Python 3",
   "language": "python",
   "name": "python3"
  },
  "language_info": {
   "codemirror_mode": {
    "name": "ipython",
    "version": 3
   },
   "file_extension": ".py",
   "mimetype": "text/x-python",
   "name": "python",
   "nbconvert_exporter": "python",
   "pygments_lexer": "ipython3",
   "version": "3.8.5"
  }
 },
 "nbformat": 4,
 "nbformat_minor": 4
}
